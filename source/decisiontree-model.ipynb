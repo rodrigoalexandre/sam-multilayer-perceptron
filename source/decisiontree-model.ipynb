{
 "cells": [
  {
   "cell_type": "markdown",
   "id": "ada8ad18",
   "metadata": {},
   "source": [
    "#### Carregar o dataset"
   ]
  },
  {
   "cell_type": "code",
   "execution_count": 1,
   "id": "d3454ce9",
   "metadata": {},
   "outputs": [],
   "source": [
    "import pandas as pd\n",
    "import numpy as np\n",
    "from sklearn.model_selection import train_test_split\n",
    "from sklearn.tree  import DecisionTreeClassifier\n",
    "from sklearn.metrics import classification_report, confusion_matrix, accuracy_score\n",
    "from sklearn.preprocessing import MinMaxScaler\n",
    "\n",
    "df = pd.read_csv('../dataset/preprocessed-sam-dataset.csv', sep='|',\n",
    "                 dtype = {'CZ': 'float32', 'FZ': 'float32', 'Fp1': 'float32', 'F3': 'float32',\n",
    "                          'FC1': 'float32', 'FC5': 'float32', 'FT9': 'float32', 'T7': 'float32',\n",
    "                          'CP5': 'float32', 'P3': 'float32', 'P7': 'float32', 'PO9': 'float32',\n",
    "                          'PZ': 'float32', 'O2': 'float32', 'P4': 'float32', 'CP6': 'float32',\n",
    "                          'FT10': 'float32', 'FC6': 'float32', 'F8': 'float32', 'Fp2': 'float32',\n",
    "                          'Scale': 'int8'})\n"
   ]
  },
  {
   "cell_type": "markdown",
   "id": "efa2d632",
   "metadata": {},
   "source": [
    "#### Size do dataset"
   ]
  },
  {
   "cell_type": "code",
   "execution_count": 2,
   "id": "ee054aad",
   "metadata": {},
   "outputs": [
    {
     "data": {
      "text/plain": [
       "(140800, 21)"
      ]
     },
     "execution_count": 2,
     "metadata": {},
     "output_type": "execute_result"
    }
   ],
   "source": [
    "df.shape"
   ]
  },
  {
   "cell_type": "markdown",
   "id": "7c91bfa1",
   "metadata": {},
   "source": [
    "#### Treinar o modelo e exibir métricas"
   ]
  },
  {
   "cell_type": "code",
   "execution_count": 3,
   "id": "d62343d3",
   "metadata": {},
   "outputs": [
    {
     "name": "stdout",
     "output_type": "stream",
     "text": [
      "Train Accuracy: 100.00 %\n",
      "Test Accuracy: 10.36 %\n",
      "\n",
      "\n",
      "Classifiction Report\n",
      "              precision    recall  f1-score   support\n",
      "\n",
      "           0       0.09      0.09      0.09      3820\n",
      "           1       0.13      0.13      0.13      3843\n",
      "           2       0.10      0.10      0.10      3924\n",
      "           3       0.10      0.10      0.10      3870\n",
      "           4       0.10      0.10      0.10      3808\n",
      "           5       0.09      0.09      0.09      3823\n",
      "           6       0.09      0.09      0.09      3820\n",
      "           7       0.10      0.09      0.10      3890\n",
      "           8       0.10      0.10      0.10      3809\n",
      "           9       0.12      0.12      0.12      3862\n",
      "          10       0.13      0.13      0.13      3771\n",
      "\n",
      "    accuracy                           0.10     42240\n",
      "   macro avg       0.10      0.10      0.10     42240\n",
      "weighted avg       0.10      0.10      0.10     42240\n",
      "\n"
     ]
    }
   ],
   "source": [
    "X = df.drop('Scale', axis = 1)\n",
    "y = df['Scale']\n",
    "\n",
    "X_train, X_test, y_train, y_test = train_test_split(X, y, test_size = 0.3, random_state = 42)\n",
    "\n",
    "scaler = MinMaxScaler()\n",
    "scaled_trainX = scaler.fit_transform(X_train)\n",
    "scaled_testX = scaler.transform(X_test)\n",
    "\n",
    "model = DecisionTreeClassifier(random_state = 42)\n",
    "model.fit(scaled_trainX, y_train)\n",
    "y_pred = model.predict(scaled_testX)\n",
    "\n",
    "print(\"Train Accuracy: {:.2f} %\".format(model.score(scaled_trainX, y_train) * 100))\n",
    "print(\"Test Accuracy: {:.2f} %\".format(accuracy_score(y_test, y_pred) * 100))\n",
    "print('\\n')\n",
    "print(\"Classifiction Report\")\n",
    "print(classification_report(y_test, y_pred, zero_division = 0))\n"
   ]
  },
  {
   "cell_type": "markdown",
   "id": "f281166e",
   "metadata": {},
   "source": [
    "#### Treinar o modelo utilizando cross validation (10 fold)"
   ]
  },
  {
   "cell_type": "code",
   "execution_count": 6,
   "id": "81904453",
   "metadata": {},
   "outputs": [
    {
     "name": "stdout",
     "output_type": "stream",
     "text": [
      "Train Accuracy: 100.00 %\n",
      "Test Accuracy: 10.39 %\n"
     ]
    }
   ],
   "source": [
    "from sklearn.model_selection import StratifiedKFold\n",
    "from sklearn.model_selection import cross_validate\n",
    "from sklearn.pipeline import Pipeline\n",
    "\n",
    "X = df.drop('Scale', axis = 1)\n",
    "y = df['Scale']\n",
    "\n",
    "pipeline = Pipeline(steps = [\n",
    "  (\"scaler\", MinMaxScaler()),  \n",
    "  (\"model\", DecisionTreeClassifier(random_state = 42))\n",
    "])\n",
    "\n",
    "strat_k_fold = StratifiedKFold(n_splits = 3, shuffle = True, random_state = 42)\n",
    "scores = cross_validate(pipeline, X, y, cv = strat_k_fold, n_jobs = 3, return_train_score = True)\n",
    "\n",
    "print(\"Train Accuracy: {:.2f} %\".format(scores['train_score'].mean() * 100))\n",
    "print(\"Test Accuracy: {:.2f} %\".format(scores['test_score'].mean() * 100))\n"
   ]
  },
  {
   "cell_type": "code",
   "execution_count": null,
   "id": "d39376b1",
   "metadata": {},
   "outputs": [],
   "source": []
  }
 ],
 "metadata": {
  "kernelspec": {
   "display_name": "Python 3 (ipykernel)",
   "language": "python",
   "name": "python3"
  },
  "language_info": {
   "codemirror_mode": {
    "name": "ipython",
    "version": 3
   },
   "file_extension": ".py",
   "mimetype": "text/x-python",
   "name": "python",
   "nbconvert_exporter": "python",
   "pygments_lexer": "ipython3",
   "version": "3.9.12"
  }
 },
 "nbformat": 4,
 "nbformat_minor": 5
}
