{
 "cells": [
  {
   "cell_type": "markdown",
   "id": "dfa972d7",
   "metadata": {},
   "source": [
    "#### Carregar o dataset"
   ]
  },
  {
   "cell_type": "code",
   "execution_count": 1,
   "id": "9c8ebc25",
   "metadata": {},
   "outputs": [],
   "source": [
    "import pandas as pd\n",
    "import numpy as np\n",
    "from sklearn.model_selection import train_test_split\n",
    "from sklearn.naive_bayes import GaussianNB\n",
    "from sklearn.metrics import classification_report, confusion_matrix, accuracy_score\n",
    "from sklearn.preprocessing import RobustScaler\n",
    "\n",
    "df = pd.read_csv('../dataset/preprocessed-sam-dataset.csv', sep='|',\n",
    "                 dtype = {'CZ': 'float32', 'FZ': 'float32', 'Fp1': 'float32', 'F3': 'float32',\n",
    "                          'FC1': 'float32', 'FC5': 'float32', 'FT9': 'float32', 'T7': 'float32',\n",
    "                          'CP5': 'float32', 'P3': 'float32', 'P7': 'float32', 'PO9': 'float32',\n",
    "                          'PZ': 'float32', 'O2': 'float32', 'P4': 'float32', 'CP6': 'float32',\n",
    "                          'FT10': 'float32', 'FC6': 'float32', 'F8': 'float32', 'Fp2': 'float32',\n",
    "                          'Scale': 'int8'})\n"
   ]
  },
  {
   "cell_type": "markdown",
   "id": "c4c5536e",
   "metadata": {},
   "source": [
    "#### Size do dataset"
   ]
  },
  {
   "cell_type": "code",
   "execution_count": 2,
   "id": "8640b4f0",
   "metadata": {},
   "outputs": [
    {
     "data": {
      "text/plain": [
       "(140800, 21)"
      ]
     },
     "execution_count": 2,
     "metadata": {},
     "output_type": "execute_result"
    }
   ],
   "source": [
    "df.shape"
   ]
  },
  {
   "cell_type": "markdown",
   "id": "0b5828eb",
   "metadata": {},
   "source": [
    "#### Treinar o modelo e exibir métricas"
   ]
  },
  {
   "cell_type": "code",
   "execution_count": 3,
   "id": "4e8e9e9f",
   "metadata": {
    "scrolled": false
   },
   "outputs": [
    {
     "name": "stdout",
     "output_type": "stream",
     "text": [
      "Train Accuracy: 11.20 %\n",
      "Test Accuracy: 11.29 %\n",
      "\n",
      "\n",
      "Classifiction Report\n",
      "              precision    recall  f1-score   support\n",
      "\n",
      "           0       0.11      0.01      0.02      3820\n",
      "           1       0.16      0.06      0.09      3843\n",
      "           2       0.11      0.05      0.06      3924\n",
      "           3       0.11      0.52      0.18      3870\n",
      "           4       0.09      0.05      0.06      3808\n",
      "           5       0.11      0.00      0.01      3823\n",
      "           6       0.11      0.23      0.15      3820\n",
      "           7       0.11      0.08      0.09      3890\n",
      "           8       0.11      0.07      0.09      3809\n",
      "           9       0.14      0.06      0.09      3862\n",
      "          10       0.16      0.10      0.12      3771\n",
      "\n",
      "    accuracy                           0.11     42240\n",
      "   macro avg       0.12      0.11      0.09     42240\n",
      "weighted avg       0.12      0.11      0.09     42240\n",
      "\n"
     ]
    }
   ],
   "source": [
    "X = df.drop('Scale', axis = 1)\n",
    "y = df['Scale']\n",
    "\n",
    "X_train, X_test, y_train, y_test = train_test_split(X.values, y, test_size = 0.3, random_state = 42)\n",
    "\n",
    "scaler = RobustScaler()\n",
    "scaled_trainX = scaler.fit_transform(X_train)\n",
    "scaled_testX = scaler.transform(X_test)\n",
    "\n",
    "model = GaussianNB(priors = None, var_smoothing = 1e-09)\n",
    "model.fit(scaled_trainX, y_train)\n",
    "y_pred = model.predict(scaled_testX)\n",
    "\n",
    "print(\"Train Accuracy: {:.2f} %\".format(model.score(scaled_trainX, y_train) * 100))\n",
    "print(\"Test Accuracy: {:.2f} %\".format(accuracy_score(y_test, y_pred) * 100))\n",
    "print('\\n')\n",
    "print(\"Classifiction Report\")\n",
    "print(classification_report(y_test, y_pred, zero_division = 0))\n"
   ]
  },
  {
   "cell_type": "markdown",
   "id": "9e199fe5",
   "metadata": {},
   "source": [
    "#### Treinar o modelo utilizando cross validation (10 fold)"
   ]
  },
  {
   "cell_type": "code",
   "execution_count": 4,
   "id": "3089516f",
   "metadata": {},
   "outputs": [
    {
     "name": "stdout",
     "output_type": "stream",
     "text": [
      "Train Accuracy: 11.22 %\n",
      "Test Accuracy: 11.21 %\n"
     ]
    }
   ],
   "source": [
    "from sklearn.model_selection import StratifiedKFold\n",
    "from sklearn.model_selection import cross_validate\n",
    "from sklearn.pipeline import Pipeline\n",
    "\n",
    "X = df.drop('Scale', axis = 1)\n",
    "y = df['Scale']\n",
    "\n",
    "pipeline = Pipeline(steps = [\n",
    "  (\"scaler\", RobustScaler()),  \n",
    "  (\"model\", GaussianNB(priors = None, var_smoothing = 1e-09))\n",
    "])\n",
    "\n",
    "strat_k_fold = StratifiedKFold(n_splits = 3, shuffle = True, random_state = 42)\n",
    "scores = cross_validate(pipeline, X, y, cv = strat_k_fold, n_jobs = 4, return_train_score = True)\n",
    "\n",
    "print(\"Train Accuracy: {:.2f} %\".format(scores['train_score'].mean() * 100))\n",
    "print(\"Test Accuracy: {:.2f} %\".format(scores['test_score'].mean() * 100))\n"
   ]
  },
  {
   "cell_type": "code",
   "execution_count": null,
   "id": "8339c714",
   "metadata": {},
   "outputs": [],
   "source": []
  }
 ],
 "metadata": {
  "kernelspec": {
   "display_name": "Python 3 (ipykernel)",
   "language": "python",
   "name": "python3"
  },
  "language_info": {
   "codemirror_mode": {
    "name": "ipython",
    "version": 3
   },
   "file_extension": ".py",
   "mimetype": "text/x-python",
   "name": "python",
   "nbconvert_exporter": "python",
   "pygments_lexer": "ipython3",
   "version": "3.9.12"
  }
 },
 "nbformat": 4,
 "nbformat_minor": 5
}
